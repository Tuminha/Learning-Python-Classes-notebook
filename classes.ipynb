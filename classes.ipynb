{
 "cells": [
  {
   "cell_type": "markdown",
   "metadata": {},
   "source": [
    "# 🐍 Learning Python Classes: From Basics to Advanced 🚀\n",
    "\n",
    "<h1>Welcome to Your Python Classes Journey!</h1>\n",
    "\n",
    "<p>This Jupyter notebook is designed to guide you through the fascinating world of Python classes. We'll start with the very basics and gradually progress to more advanced concepts, helping you build a solid understanding of object-oriented programming in Python.</p>\n",
    "\n",
    "<h2>📚 What You'll Learn</h2>\n",
    "\n",
    "<p>In this notebook, we'll cover the following topics:</p>\n",
    "\n",
    "1. 🏗️ Creating a simple class\n",
    "2. 🧬 Class attributes and instance attributes\n",
    "3. 🛠️ Methods and the `self` parameter\n",
    "4. 🎭 Special methods (magic methods)\n",
    "5. 🧱 Inheritance and polymorphism\n",
    "6. 🔒 Encapsulation and access modifiers\n",
    "7. 🏭 Class methods and static methods\n",
    "8. 🧪 Property decorators\n",
    "9. 🔗 Composition and aggregation\n",
    "10. 🧩 Abstract classes and interfaces\n",
    "\n",
    "<h2>🗺️ How to Use This Notebook</h2>\n",
    "\n",
    "<p>Each section of this notebook will follow this structure:</p>\n",
    "\n",
    "1. 📝 **Learning Objective**: A clear statement of what you'll learn in the section.\n",
    "2. 🏋️ **Proposed Exercise**: A practical example to apply the concept you've learned.\n",
    "3. 💻 **Code Cell**: Where you'll write and execute your Python code.\n",
    "4. 📘 **Explanation**: A detailed explanation of the code and concepts.\n",
    "\n",
    "<h3>🎯 Goal</h3>\n",
    "\n",
    "<p>By the end of this notebook, you'll have created a complex class that incorporates all the concepts you've learned. This hands-on approach will help you understand how classes work in Python and how to use them effectively in your own projects.</p>\n",
    "\n",
    "<h3>🌟 Let's Get Started!</h3>\n",
    "\n",
    "<p>Are you ready to dive into the world of Python classes? Let's begin our journey from a simple class to a complex, feature-rich class that showcases the power of object-oriented programming in Python!</p>"
   ]
  },
  {
   "cell_type": "markdown",
   "metadata": {},
   "source": [
    "# 📚 **Proposed Exercise with a Practical Example:**\n",
    "\n",
    "### Imagine you're building a library management system. 📖 Create a simple `Book` class that represents a book in the library. The class should have attributes for the book's title and author. 📝\n",
    "\n",
    "#### Don't implement any methods yet; we'll focus solely on creating the class and its attributes. 🚫"
   ]
  },
  {
   "cell_type": "code",
   "execution_count": 16,
   "metadata": {},
   "outputs": [
    {
     "name": "stdout",
     "output_type": "stream",
     "text": [
      "I'm reading Co-Intelligence\n",
      "from Ethan Mollick\n"
     ]
    }
   ],
   "source": [
    "#Create a class called `Book` with the following attributes:\n",
    "\n",
    "# - `title`\n",
    "# - `author`\n",
    "\n",
    "class Book:\n",
    "    def __init__(self, title, author): #__init__ is a special method that is called when a new instance of the class is created. Inside the method, we define the attributes of the class and also the self parameter, which is a reference to the current instance of the class.\n",
    "        self.title = title #by using the self parameter, we can access the attributes of the class and also the methods of the class.\n",
    "        self.author = author #the same goes for the author attribute.\n",
    "\n",
    "my_book = Book(\"Co-Intelligence\", \"Ethan Mollick\")\n",
    "print(f\"I'm reading {my_book.title}\")\n",
    "print(f\"from {my_book.author}\")"
   ]
  },
  {
   "cell_type": "markdown",
   "metadata": {},
   "source": [
    "### We can provide a default value for the author or book if we need so."
   ]
  },
  {
   "cell_type": "code",
   "execution_count": 4,
   "metadata": {},
   "outputs": [
    {
     "name": "stdout",
     "output_type": "stream",
     "text": [
      "The Implant dilema\n",
      "Not sure\n"
     ]
    }
   ],
   "source": [
    "my_new_book = Book(\"The Implant dilema\", author = \"Not sure\")\n",
    "print(my_new_book.title)\n",
    "print(my_new_book.author)"
   ]
  },
  {
   "cell_type": "markdown",
   "metadata": {},
   "source": [
    "### Type Hinting: In more recent versions of Python, you can use type hinting to indicate the expected types of the parameters and attributes:"
   ]
  },
  {
   "cell_type": "code",
   "execution_count": 36,
   "metadata": {},
   "outputs": [
    {
     "name": "stdout",
     "output_type": "stream",
     "text": [
      "I'm reading Co-Intelligence\n",
      "from Ethan Mollick\n",
      "123\n",
      "456\n",
      "All inputs are of the correct type.\n",
      "Co-Intelligence\n",
      "Ethan\n",
      "Error creating book: Author must be a string, got <class 'int'>\n",
      "Attempted types: title: <class 'str'>, author: <class 'int'>\n"
     ]
    }
   ],
   "source": [
    "class Book_new:\n",
    "    \"\"\"It represents a book in the library.\"\"\"\n",
    "    def __init__(self, title: str, author: str):\n",
    "        self.title = title\n",
    "        self.author = author\n",
    "\n",
    "my_book = Book_new(\"Co-Intelligence\", \"Ethan Mollick\")\n",
    "print(\"I'm reading\" + \" \" +my_book.title)\n",
    "print(\"from\" + \" \" + my_book.author)\n",
    "\n",
    "# If the input does not correspond with the type hinting, we will get an error.\n",
    "my_book_with_wrong_type = Book_new(123, 456)\n",
    "print(my_book_with_wrong_type.title)\n",
    "print(my_book_with_wrong_type.author)\n",
    "\n",
    "# The result of the previous print will be:\n",
    "# I'm reading Co-Intelligence\n",
    "# from Ethan Mollick\n",
    "# 123\n",
    "# 456\n",
    "\n",
    "# In the previous example, no error was returned even though the code executed and returned the numbers 123 and 456, although we expected strings. This is because Python is a dynamically typed language, meaning the type of a variable is determined at runtime rather than at compile time. In contrast, languages like TypeScript would return an error in such cases.\n",
    "# To enforce type checking in Python, we need to manually check the types and raise errors if they do not match the expected types. We will now create a new class named `Book_new_assert` that will raise a `TypeError` if the input types do not match the expected types.\n",
    "\n",
    "# The `Book_new_assert` class will include a method to check the types of the inputs and raise an error if they are incorrect. We will also use `try` and `except` blocks to handle these errors gracefully.\n",
    "# The `try` block lets you test a block of code for errors, and the `except` block lets you handle the error. The `TypeError` is a built-in exception in Python that is raised when an operation or function is applied to an object of inappropriate type.\n",
    "# The `isinstance` function is used to check if an object is an instance or subclass of a class or a tuple of classes.\n",
    "# The `{e}` in the `except` block is used to capture and print the error message.\n",
    "class Book_new_assert:\n",
    "    def __init__(self, title: str, author: str):\n",
    "        self.check_book_types(title, author)\n",
    "        self.title = title\n",
    "        self.author = author\n",
    "\n",
    "    @staticmethod\n",
    "    def check_book_types(title, author):\n",
    "        if not isinstance(title, str):\n",
    "            raise TypeError(f\"Title must be a string, got {type(title)}\")\n",
    "        if not isinstance(author, str):\n",
    "            raise TypeError(f\"Author must be a string, got {type(author)}\")\n",
    "        print(\"All inputs are of the correct type.\")\n",
    "\n",
    "# Correct usage\n",
    "try:\n",
    "    my_book_with_correct_type = Book_new_assert(\"Co-Intelligence\", \"Ethan\")\n",
    "    print(my_book_with_correct_type.title)\n",
    "    print(my_book_with_correct_type.author)\n",
    "except TypeError as e:\n",
    "    print(f\"Error creating book: {e}\")\n",
    "\n",
    "# Incorrect usage\n",
    "try:\n",
    "    my_book_with_wrong_type = Book_new_assert(\"Co-Intelligence\", 123)\n",
    "except TypeError as e: # The e is defined as the error message. The way to do it is by using the \"as\" keyword after the except keyword and then the name of the error.\n",
    "    print(f\"Error creating book: {e}\")\n",
    "    # Instead of calling check_book_types again, just print the types\n",
    "    print(f\"Attempted types: title: {type('Co-Intelligence')}, author: {type(123)}\")\n",
    "\n",
    "\n",
    "\n"
   ]
  },
  {
   "cell_type": "markdown",
   "metadata": {},
   "source": [
    "# 🚀 Python Classes Learning Journey: Progress and Next Steps\n",
    "\n",
    "## 📊 Our Progress So Far\n",
    "\n",
    "Ok, so far so good! Let's take a look at what we've achieved and what's left to explore in our Python classes adventure:\n",
    "\n",
    "1. ✅ Creating a simple class\n",
    "2. ✅ Class attributes and instance attributes\n",
    "3. ✅ Methods and the `self` parameter\n",
    "4. 🔶 Special methods (magic methods) - We've used `__init__`, but there's more to discover!\n",
    "5. ❌ Inheritance and polymorphism\n",
    "6. 🔶 Encapsulation and access modifiers - We've touched on this implicitly\n",
    "7. ✅ Class methods and static methods - We've used a static method\n",
    "8. ❌ Property decorators\n",
    "9. ❌ Composition and aggregation\n",
    "10. ❌ Abstract classes and interfaces\n",
    "\n",
    "## 🎯 Our Next Objectives\n",
    "\n",
    "For the next steps in our journey, let's focus on:\n",
    "\n",
    "1. 🧙‍♂️ Special methods (magic methods): \n",
    "   - Expand our `Book` class with more special methods like `__str__`, `__repr__`, and `__eq__`\n",
    "   \n",
    "2. 👨‍👧 Inheritance: \n",
    "   - Create a subclass of `Book`, such as `Ebook` or `AudioBook`\n",
    "\n",
    "## 📚 Next Lesson: Special Methods and String Representation\n",
    "\n",
    "### 🧠 What we're going to learn:\n",
    "Special Methods (Magic Methods) and String Representation\n",
    "\n",
    "### 🏋️ Proposed exercise:\n",
    "Enhance your `Book` class by adding these special methods:\n",
    "\n",
    "- `__str__`: For a readable string representation of the book\n",
    "- `__repr__`: For a detailed string representation, useful for debugging\n",
    "- `__eq__`: To compare two books for equality based on their title and author\n",
    "\n",
    "Also, add a method to display the book's details in a formatted way.\n",
    "\n",
    "### 🧪 Testing your implementation:\n",
    "Create multiple book instances, print them, and compare them to see your new methods in action!\n",
    "\n",
    "## 💡 Why This Matters\n",
    "\n",
    "This exercise will help you understand how special methods can make your classes more powerful and easier to use. It also introduces the concept of operator overloading (with `__eq__`), which is an important aspect of object-oriented programming in Python.\n",
    "\n",
    "## 🚀 Ready for Takeoff!\n",
    "\n",
    "Let's dive into these magical methods and take our `Book` class to the next level! Remember, coding is an adventure - enjoy the journey of discovery! 🌟"
   ]
  }
 ],
 "metadata": {
  "kernelspec": {
   "display_name": "Python 3",
   "language": "python",
   "name": "python3"
  },
  "language_info": {
   "codemirror_mode": {
    "name": "ipython",
    "version": 3
   },
   "file_extension": ".py",
   "mimetype": "text/x-python",
   "name": "python",
   "nbconvert_exporter": "python",
   "pygments_lexer": "ipython3",
   "version": "3.9.5"
  }
 },
 "nbformat": 4,
 "nbformat_minor": 2
}
